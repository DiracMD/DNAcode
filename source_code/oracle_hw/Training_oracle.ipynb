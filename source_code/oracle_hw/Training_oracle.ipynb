{
 "cells": [
  {
   "cell_type": "code",
   "execution_count": null,
   "metadata": {},
   "outputs": [],
   "source": [
    "import tensorflow as tf\n",
    "import collections\n",
    "#from tensorflow import keras\n",
    "from keras import layers\n",
    "from keras.layers import Input,Dense,Activation,ZeroPadding2D,BatchNormalization,Flatten,Conv2D\n",
    "from keras.layers import AveragePooling2D,MaxPooling2D,Dropout,GlobalMaxPool2D,GlobalAveragePooling2D\n",
    "from keras.models import Model\n",
    "from keras.preprocessing import image\n",
    "from keras.utils import layer_utils\n",
    "from keras.utils.data_utils import get_file\n",
    "from keras.applications.imagenet_utils import preprocess_input\n",
    "import pydot\n",
    "from IPython.display import SVG\n",
    "from keras.utils.vis_utils import model_to_dot\n",
    "from keras.utils import plot_model\n",
    "\n",
    "import keras.backend as K\n",
    "K.set_image_data_format('channels_last')\n",
    "#inputshape=(height,width,deep)\n",
    "\n",
    "import matplotlib.pyplot as plt\n",
    "from matplotlib.pyplot import imshow\n",
    "\n",
    "import h5py\n",
    "import os \n",
    "from PIL import Image\n",
    "import sklearn\n",
    "from sklearn import preprocessing\n",
    "import scipy\n",
    "import numpy as np\n",
    "from keras import backend as K\n",
    "from keras.models import load_model\n",
    "import os,sys"
   ]
  },
  {
   "cell_type": "code",
   "execution_count": null,
   "metadata": {},
   "outputs": [],
   "source": [
    "train_dataset = h5py.File(\"./dataset_oracle_20200602.h5\",'r')\n",
    "X_train = np.array(train_dataset['x_train'][:])\n",
    "Y_train = np.array(train_dataset['y_train'][:])\n",
    "X_test = np.array(train_dataset['x_test'][:])\n",
    "Y_test = np.array(train_dataset['y_test'][:])\n",
    "train_dataset.close()\n",
    "#train_data= create_dataset(X_train,Y_train)"
   ]
  },
  {
   "cell_type": "code",
   "execution_count": null,
   "metadata": {},
   "outputs": [],
   "source": [
    "class_names=[\"fire\",\"soil\",\"wood\",\"water\",\"gas\",\"sky\",\"human\",\"life\"]\n",
    "print(len(X_train))\n",
    "for i in range(25):\n",
    "    print(np.squeeze(X_train[i]),np.sum(X_train[i]==1))\n",
    "    print(class_names[int(Y_train[i])])"
   ]
  },
  {
   "cell_type": "code",
   "execution_count": null,
   "metadata": {},
   "outputs": [],
   "source": [
    "print(\"number of traning examples = \"+str(X_train.shape[0]))\n",
    "print(\"number of test examples = \"+str(X_test.shape[0]))\n",
    "print(\"X_train shape:\" + str(X_train.shape))\n",
    "print(\"Y_train shape:\" + str(Y_train.shape))\n",
    "print(\"X_test shape:\" + str(X_test.shape))\n",
    "print(\"Y_test shape:\" + str(Y_test.shape))\n",
    "train_data=(X_train,Y_train)\n",
    "test_data=(X_test,Y_test)"
   ]
  },
  {
   "cell_type": "code",
   "execution_count": null,
   "metadata": {},
   "outputs": [],
   "source": [
    "#Build a model\n",
    "def Pimodel(input_shape):\n",
    "    X_input = Input(shape=input_shape)\n",
    "    X=ZeroPadding2D(padding=(1,1))(X_input)\n",
    "    X=Conv2D(1,kernel_size=(3,6),strides=(3,6),use_bias=None)(X)\n",
    "    X=Activation('relu')(X)\n",
    "    #X=Conv2D(1,kernel_size=(2,3),strides=(2,2))(X)\n",
    "    #X=Activation(\"sigmoid\")(X)\n",
    "    X=Flatten()(X)\n",
    "    Y=Activation('softmax')(X)\n",
    "    model=Model(inputs=X_input,outputs=Y,name=\"JSmodel\")\n",
    "    return model"
   ]
  },
  {
   "cell_type": "code",
   "execution_count": null,
   "metadata": {},
   "outputs": [],
   "source": [
    "picmodel = Pimodel((10,10,1))"
   ]
  },
  {
   "cell_type": "code",
   "execution_count": null,
   "metadata": {},
   "outputs": [],
   "source": [
    "import keras\n",
    "picmodel.compile(optimizer=keras.optimizers.Adam(lr=0.001,beta_1=0.9,beta_2=0.999,epsilon=1e-08,decay=0.0),loss='sparse_categorical_crossentropy',metrics=['accuracy'])"
   ]
  },
  {
   "cell_type": "code",
   "execution_count": null,
   "metadata": {},
   "outputs": [],
   "source": [
    "picmodel.summary()"
   ]
  },
  {
   "cell_type": "code",
   "execution_count": null,
   "metadata": {},
   "outputs": [],
   "source": [
    "history=picmodel.fit(x=X_train,y=Y_train,batch_size=200,epochs=1000,validation_data=(X_test,Y_test))"
   ]
  },
  {
   "cell_type": "code",
   "execution_count": null,
   "metadata": {},
   "outputs": [],
   "source": [
    "preds = picmodel.evaluate(x=X_test,y=Y_test)\n",
    "\n",
    "print('Test Loss=' + str(preds[0]))\n",
    "print(\"Test Accuacy=\"+str(preds[1]))"
   ]
  },
  {
   "cell_type": "code",
   "execution_count": null,
   "metadata": {},
   "outputs": [],
   "source": [
    "plt.figure(figsize=(10,10))\n",
    "plt.plot(history.history[\"accuracy\"])\n",
    "plt.plot(history.history['val_accuracy'])\n",
    "plt.title('model accuracy')\n",
    "plt.ylabel('accuracy')\n",
    "plt.xlabel('epoch')\n",
    "plt.ylim((0, 1))\n",
    "plt.legend(['train', 'test'], loc='best')"
   ]
  },
  {
   "cell_type": "code",
   "execution_count": null,
   "metadata": {},
   "outputs": [],
   "source": [
    "plt.figure(figsize=(10,10))\n",
    "plt.plot(history.history[\"loss\"])\n",
    "plt.plot(history.history['val_loss'])\n",
    "plt.title('model loss')\n",
    "plt.ylabel('loss')\n",
    "plt.xlabel('epoch')\n",
    "plt.legend(['train', 'test'], loc='best')"
   ]
  },
  {
   "cell_type": "markdown",
   "metadata": {},
   "source": [
    "## Check the weight and bias"
   ]
  },
  {
   "cell_type": "raw",
   "metadata": {},
   "source": [
    "picmodel.save(\"model_oracle_20200602.h5\")"
   ]
  },
  {
   "cell_type": "raw",
   "metadata": {},
   "source": [
    "bias=np.squeeze(picmodel.layers[2].get_weights()[)\n",
    "print(bias)"
   ]
  },
  {
   "cell_type": "code",
   "execution_count": null,
   "metadata": {},
   "outputs": [],
   "source": [
    "kernel_weights=picmodel.layers[2].get_weights()[0]\n",
    "#kernel_weights\n",
    "print(np.squeeze(kernel_weights))"
   ]
  },
  {
   "cell_type": "code",
   "execution_count": null,
   "metadata": {},
   "outputs": [],
   "source": [
    "print(picmodel.summary())\n",
    "print(picmodel.get_weights())"
   ]
  },
  {
   "cell_type": "code",
   "execution_count": null,
   "metadata": {},
   "outputs": [],
   "source": [
    "## the layer output "
   ]
  },
  {
   "cell_type": "code",
   "execution_count": null,
   "metadata": {},
   "outputs": [],
   "source": [
    "class_names=[\"fire\",\"soil\",\"wood\",\"water\",\"gas\",\"sky\",\"human\",\"life\"]\n",
    "picmodel=load_model(\"./model_orcale_20200602.h5\")"
   ]
  },
  {
   "cell_type": "code",
   "execution_count": null,
   "metadata": {},
   "outputs": [],
   "source": [
    "print(picmodel.summary())"
   ]
  },
  {
   "cell_type": "code",
   "execution_count": null,
   "metadata": {},
   "outputs": [],
   "source": [
    "kernel_weights=np.squeeze(picmodel.get_weights())\n",
    "#print(kernel_weights.flatten())\n",
    "a1=np.squeeze(kernel_weights)[0:3,0:6].flatten()\n",
    "print(kernel_weights)\n",
    "N=abs(a1.flatten())[np.argmax(abs(a1.flatten()))]\n",
    "print(N)\n",
    "a1_nor=a1.flatten()/N\n",
    "print(a1_nor)"
   ]
  },
  {
   "cell_type": "code",
   "execution_count": null,
   "metadata": {},
   "outputs": [],
   "source": [
    "def get_layer_output(model,x,index=0):\n",
    "    layer = K.function([model.input],[model.layers[index].output])\n",
    "    return layer([x])[0]"
   ]
  },
  {
   "cell_type": "code",
   "execution_count": null,
   "metadata": {},
   "outputs": [],
   "source": [
    "path=\"./dataset/fire/\"\n",
    "imlist=os.listdir(path)\n",
    "fire_t=[]\n",
    "Fire_t=[]\n",
    "\n",
    "fn_t=[]\n",
    "for elef in imlist:\n",
    "    input_x = np.array(np.load(r\"./dataset/fire/\"+elef))\n",
    "    input_x = np.expand_dims(input_x,axis=0)\n",
    "    input_x = np.expand_dims(input_x,axis=3)\n",
    "    layer_1 = get_layer_output(picmodel,input_x,index=1)\n",
    "    layer_2 = get_layer_output(picmodel,input_x,index=2)\n",
    "    layer_3 = get_layer_output(picmodel,input_x,index=3)\n",
    "    layer_4 = get_layer_output(picmodel,input_x,index=4)\n",
    "    layer_5 = get_layer_output(picmodel,input_x,index=5)\n",
    "    fire_t.append(class_names[np.argmax(layer_5)])\n",
    "    #print(elef,layer_2.flatten())\n",
    "    if class_names[np.argmax(layer_5)]==\"fire\":\n",
    "        FN_t=[]\n",
    "        FN_t.append(elef)\n",
    "        FN_t.append(layer_2.flatten())\n",
    "        fn_t.append(FN_t)\n",
    "        print(elef,layer_2.flatten(),class_names[np.argmax(layer_5)])\n",
    "        Fire_t.append(elef)\n",
    "print(fn_t)\n",
    "f1=collections.Counter(fire_t)\n",
    "print(len(fire_t),collections.Counter(fire_t))"
   ]
  },
  {
   "cell_type": "code",
   "execution_count": null,
   "metadata": {},
   "outputs": [],
   "source": [
    "path=\"./dataset/soil/\"\n",
    "imlist=os.listdir(path)\n",
    "soil_T=[]\n",
    "Soil_T=[]\n",
    "for elef in imlist:\n",
    "    input_x = np.array(np.load(r\"./dataset/soil/\"+elef))\n",
    "    input_x = np.expand_dims(input_x,axis=0)\n",
    "    input_x = np.expand_dims(input_x,axis=3)\n",
    "    layer_1 = get_layer_output(picmodel,input_x,index=1)\n",
    "    layer_2 = get_layer_output(picmodel,input_x,index=2)\n",
    "    layer_3 = get_layer_output(picmodel,input_x,index=3)\n",
    "    layer_5 = get_layer_output(picmodel,input_x,index=5)\n",
    "    #print(class_names[np.argmax(layer_6)])\n",
    "    soil_T.append(class_names[np.argmax(layer_5)])\n",
    "    if class_names[np.argmax(layer_5)]==\"soil\":\n",
    "        print(elef,layer_5,class_names[np.argmax(layer_5)])\n",
    "        #print(elef)\n",
    "        #print(layer_2.flatten())\n",
    "        #print(class_names[np.argmax(layer_5)])\n",
    "        Soil_T.append([elef,layer_2.flatten()])\n",
    "print(len(soil_T))\n",
    "s1=collections.Counter(soil_T)\n",
    "print(collections.Counter(soil_T))\n",
    "print(Soil_T)"
   ]
  },
  {
   "cell_type": "raw",
   "metadata": {},
   "source": [
    "def takesecondsoil(elem):\n",
    "    return elem[1][1]\n",
    "Soil_T.sort(key=takesecondsoil,reverse=True)\n",
    "#print(Soil_T)\n",
    "for i in Soil_T:\n",
    "    print(i[0])\n",
    "    print(i[1]/N)"
   ]
  },
  {
   "cell_type": "code",
   "execution_count": null,
   "metadata": {},
   "outputs": [],
   "source": [
    "path=\"./dataset/wood/\"\n",
    "imlist=os.listdir(path)\n",
    "wood_T=[]\n",
    "Wood_T=[]\n",
    "for elef in imlist:\n",
    "    input_x = np.array(np.load(r\"./dataset/wood/\"+elef))\n",
    "    input_x = np.expand_dims(input_x,axis=0)\n",
    "    input_x = np.expand_dims(input_x,axis=3)\n",
    "    layer_1 = get_layer_output(picmodel,input_x,index=1)\n",
    "    layer_2 = get_layer_output(picmodel,input_x,index=2)\n",
    "    layer_3 = get_layer_output(picmodel,input_x,index=3)\n",
    "    layer_5 = get_layer_output(picmodel,input_x,index=5)\n",
    "    wood_T.append(class_names[np.argmax(layer_5)])\n",
    "    if class_names[np.argmax(layer_5)]==\"wood\":\n",
    "        print(elef,layer_5,class_names[np.argmax(layer_5)])\n",
    "        #print(elef)\n",
    "        #print(layer_2.flatten())\n",
    "        #print(class_names[np.argmax(layer_5)])\n",
    "        Wood_T.append([elef,layer_2.flatten()])\n",
    "print(len(wood_T))\n",
    "print(Wood_T)\n",
    "W1=collections.Counter(wood_T)\n",
    "print(collections.Counter(wood_T))  "
   ]
  },
  {
   "cell_type": "raw",
   "metadata": {},
   "source": [
    "def takesecondwood(elem):\n",
    "    return elem[1][2]\n",
    "Wood_T.sort(key=takesecondwood,reverse=True)\n",
    "#print(Soil_T)\n",
    "for i in Wood_T:\n",
    "    print(i[0])\n",
    "    print(i[1]/N)"
   ]
  },
  {
   "cell_type": "code",
   "execution_count": null,
   "metadata": {},
   "outputs": [],
   "source": [
    "path=\"./dataset/water/\"\n",
    "imlist=os.listdir(path)\n",
    "water_T=[]\n",
    "Water_T=[]\n",
    "for elef in imlist:\n",
    "    input_x = np.array(np.load(r\"./dataset/water/\"+elef))\n",
    "    input_x = np.expand_dims(input_x,axis=0)\n",
    "    input_x = np.expand_dims(input_x,axis=3)\n",
    "    layer_1 = get_layer_output(picmodel,input_x,index=1)\n",
    "    layer_2 = get_layer_output(picmodel,input_x,index=2)\n",
    "    layer_3 = get_layer_output(picmodel,input_x,index=3)\n",
    "    layer_5 = get_layer_output(picmodel,input_x,index=5)\n",
    "    #print(class_names[np.argmax(layer_6)])\n",
    "    water_T.append(class_names[np.argmax(layer_5)])\n",
    "    if class_names[np.argmax(layer_5)]==\"water\":\n",
    "        #print(elef,layer_5,class_names[np.argmax(layer_5)])\n",
    "        print(elef)\n",
    "        print(layer_2.flatten())\n",
    "        print(class_names[np.argmax(layer_5)])\n",
    "        Water_T.append([elef,layer_2.flatten()])\n",
    "#print(len(water_T))\n",
    "w1=collections.Counter(water_T)\n",
    "print(collections.Counter(water_T))\n",
    "print(Water_T)"
   ]
  },
  {
   "cell_type": "raw",
   "metadata": {},
   "source": [
    "def takesecondwater(elem):\n",
    "    return elem[1][3]\n",
    "Water_T.sort(key=takesecondwater,reverse=True)\n",
    "#print(Soil_T)\n",
    "for i in Water_T:\n",
    "    print(i[0])\n",
    "    print(i[1]/N)"
   ]
  },
  {
   "cell_type": "code",
   "execution_count": null,
   "metadata": {},
   "outputs": [],
   "source": [
    "path=\"./dataset/gas/\"\n",
    "imlist=os.listdir(path)\n",
    "gas_T=[]\n",
    "Gas_T=[]\n",
    "for elef in imlist:\n",
    "    input_x = np.array(np.load(r\"./dataset/gas/\"+elef))\n",
    "    input_x = np.expand_dims(input_x,axis=0)\n",
    "    input_x = np.expand_dims(input_x,axis=3)\n",
    "    layer_1 = get_layer_output(picmodel,input_x,index=1)\n",
    "    layer_2 = get_layer_output(picmodel,input_x,index=2)\n",
    "    layer_3 = get_layer_output(picmodel,input_x,index=3)\n",
    "    layer_5 = get_layer_output(picmodel,input_x,index=5)\n",
    "    #print(class_names[np.argmax(layer_6)])\n",
    "    #print(elef,layer_6,np.argmax(layer_6))\n",
    "    gas_T.append(class_names[np.argmax(layer_5)])\n",
    "    if class_names[np.argmax(layer_5)]==\"gas\":\n",
    "        print(elef,layer_2.flatten(),class_names[np.argmax(layer_5)])\n",
    "        Gas_T.append([elef,layer_2.flatten()])\n",
    "print(len(gas_T))\n",
    "G1=collections.Counter(gas_T)\n",
    "print(Gas_T)\n",
    "print(collections.Counter(gas_T))"
   ]
  },
  {
   "cell_type": "raw",
   "metadata": {},
   "source": [
    "def takesecondgas(elem):\n",
    "    return elem[1][4]\n",
    "Gas_T.sort(key=takesecondgas,reverse=True)\n",
    "for elef in Gas_T:\n",
    "    input_x = np.array(np.load(r\"./dataset/gas/\"+elef[0]))\n",
    "    print(elef[0])\n",
    "    print(input_x)\n",
    "    print(elef[1])\n",
    "#print(Soil_T)\n",
    "#for i in Gas_T:"
   ]
  },
  {
   "cell_type": "raw",
   "metadata": {},
   "source": [
    "path=\"./dataset/gas/\"\n",
    "imlist=os.listdir(path)\n",
    "\n",
    "for elef in Gas_T:\n",
    "    input_x = np.array(np.load(r\"./dataset/gas/\"+elef))\n",
    "    print(input_x,np.sum(input_x==1))\n",
    "    np.save(elef,input_x)"
   ]
  },
  {
   "cell_type": "code",
   "execution_count": null,
   "metadata": {},
   "outputs": [],
   "source": [
    "path=\"./dataset/sky/\"\n",
    "imlist=os.listdir(path)\n",
    "sky_T=[]\n",
    "Sky_T=[]\n",
    "for elef in imlist:\n",
    "    input_x = np.array(np.load(r\"./dataset/sky/\"+elef))\n",
    "    input_x = np.expand_dims(input_x,axis=0)\n",
    "    input_x = np.expand_dims(input_x,axis=3)\n",
    "    layer_1 = get_layer_output(picmodel,input_x,index=1)\n",
    "    layer_2 = get_layer_output(picmodel,input_x,index=2)\n",
    "    layer_3 = get_layer_output(picmodel,input_x,index=3)\n",
    "    layer_5 = get_layer_output(picmodel,input_x,index=5)\n",
    "    #print(class_names[np.argmax(layer_6)])\n",
    "    #print(elef,layer_6,np.argmax(layer_5))\n",
    "    sky_T.append(class_names[np.argmax(layer_5)])\n",
    "    if class_names[np.argmax(layer_5)]==\"sky\":\n",
    "        print(elef,layer_2.flatten(),class_names[np.argmax(layer_5)])\n",
    "        Sky_T.append([elef,layer_2.flatten()])\n",
    "print(len(sky_T))\n",
    "S1=collections.Counter(sky_T)\n",
    "print(Sky_T)\n",
    "print(collections.Counter(sky_T))"
   ]
  },
  {
   "cell_type": "raw",
   "metadata": {},
   "source": [
    "def takesecondsky(elem):\n",
    "    return elem[1][5]\n",
    "Sky_T.sort(key=takesecondsky,reverse=True)\n",
    "#print(Soil_T)\n",
    "for i in Sky_T:\n",
    "    print(i[0])\n",
    "    print(i[1]/N)"
   ]
  },
  {
   "cell_type": "code",
   "execution_count": null,
   "metadata": {},
   "outputs": [],
   "source": [
    "path=\"./dataset/human/\"\n",
    "imlist=os.listdir(path)\n",
    "human_T=[]\n",
    "Human_t=[]\n",
    "for elef in imlist:\n",
    "    input_x = np.array(np.load(r\"./dataset/human/\"+elef))\n",
    "    input_x = np.expand_dims(input_x,axis=0)\n",
    "    input_x = np.expand_dims(input_x,axis=3)\n",
    "    layer_1 = get_layer_output(picmodel,input_x,index=1)\n",
    "    layer_2 = get_layer_output(picmodel,input_x,index=2)\n",
    "    layer_3 = get_layer_output(picmodel,input_x,index=3)\n",
    "    layer_5 = get_layer_output(picmodel,input_x,index=5)\n",
    "    #print(elef,layer_6,np.argmax(layer_6))\n",
    "    human_T.append(class_names[np.argmax(layer_5)])\n",
    "    if class_names[np.argmax(layer_5)]==\"human\":\n",
    "        print(elef,layer_2.flatten(),class_names[np.argmax(layer_5)])\n",
    "        Human_t.append([elef,layer_2.flatten()])\n",
    "H1=collections.Counter(human_T)\n",
    "print(len(human_T))\n",
    "print(Human_t)\n",
    "print(collections.Counter(human_T))"
   ]
  },
  {
   "cell_type": "raw",
   "metadata": {},
   "source": [
    "def takesecondhuman(elem):\n",
    "    return elem[1][6]\n",
    "Human_t.sort(key=takesecondhuman,reverse=True)\n",
    "#print(Soil_T)\n",
    "for i in Human_t:\n",
    "    print(i[0])\n",
    "    print(i[1]/N)"
   ]
  },
  {
   "cell_type": "raw",
   "metadata": {},
   "source": [
    "path=\"./dataset/human/\"\n",
    "imlist=os.listdir(path)\n",
    "for ele in Human_t:\n",
    "    input_x = np.array(np.load(r\"./dataset/human/\"+ele))\n",
    "    print(input_x,np.sum(input_x==1))\n",
    "    np.save(ele,input_x)"
   ]
  },
  {
   "cell_type": "code",
   "execution_count": null,
   "metadata": {},
   "outputs": [],
   "source": [
    "path=\"./dataset/life/\"\n",
    "imlist=os.listdir(path)\n",
    "life_T=[]\n",
    "Life_T=[]\n",
    "for elef in imlist:\n",
    "    input_x = np.array(np.load(r\"./dataset/life/\"+elef))\n",
    "    input_x = np.expand_dims(input_x,axis=0)\n",
    "    input_x = np.expand_dims(input_x,axis=3)\n",
    "    layer_1 = get_layer_output(picmodel,input_x,index=1)\n",
    "    layer_2 = get_layer_output(picmodel,input_x,index=2)\n",
    "    layer_3 = get_layer_output(picmodel,input_x,index=3)\n",
    "    layer_5 = get_layer_output(picmodel,input_x,index=5)\n",
    "    #print(class_names[np.argmax(layer_6)])\n",
    "    #print(elef,layer_6,class_names[np.argmax(layer_6)])\n",
    "    life_T.append(class_names[np.argmax(layer_5)])\n",
    "    if class_names[np.argmax(layer_5)]==\"life\":\n",
    "        print(elef,layer_2.flatten(),class_names[np.argmax(layer_5)])\n",
    "        Life_T.append([elef,layer_2.flatten()])\n",
    "    \n",
    "L1=collections.Counter(life_T)\n",
    "print(len(life_T))\n",
    "print(Life_T)\n",
    "print(collections.Counter(life_T))"
   ]
  },
  {
   "cell_type": "raw",
   "metadata": {},
   "source": [
    "def takesecondlife(elem):\n",
    "    return elem[1][7]\n",
    "Life_T.sort(key=takesecondlife,reverse=True)\n",
    "#print(Soil_T)\n",
    "for i in Life_T:\n",
    "    print(i[0])\n",
    "    print(i[1]/N)"
   ]
  },
  {
   "cell_type": "code",
   "execution_count": null,
   "metadata": {},
   "outputs": [],
   "source": [
    "import pandas as pd\n",
    "#dict1 = pd.DataFrame(pd.Series(f1),columns=[\"numbers\"],index=[\"fire\",\"soil\",\"water\",\"wood\",\"gas\",\"sky\",\"human\",\"life\"])\n",
    "x=[\"fire\",\"soil\",\"water\",\"wood\",\"gas\",\"sky\",\"human\",\"life\"]\n",
    "dict1=pd.Series(f1).reindex([\"fire\",\"soil\",\"water\",\"wood\",\"gas\",\"sky\",\"human\",\"life\"])\n",
    "dict1[np.squeeze(np.argwhere(np.isnan(dict1)))]=0\n",
    "dict2=pd.Series(s1).reindex([\"fire\",\"soil\",\"water\",\"wood\",\"gas\",\"sky\",\"human\",\"life\"])\n",
    "dict2[np.squeeze(np.argwhere(np.isnan(dict2)))]=0\n",
    "dict3=pd.Series(w1).reindex([\"fire\",\"soil\",\"water\",\"wood\",\"gas\",\"sky\",\"human\",\"life\"])\n",
    "dict3[np.squeeze(np.argwhere(np.isnan(dict3)))]=0\n",
    "dict4=pd.Series(W1).reindex([\"fire\",\"soil\",\"water\",\"wood\",\"gas\",\"sky\",\"human\",\"life\"])\n",
    "dict4[np.squeeze(np.argwhere(np.isnan(dict4)))]=0\n",
    "dict5=pd.Series(G1).reindex([\"fire\",\"soil\",\"water\",\"wood\",\"gas\",\"sky\",\"human\",\"life\"])\n",
    "dict5[np.squeeze(np.argwhere(np.isnan(dict5)))]=0\n",
    "dict6=pd.Series(S1).reindex([\"fire\",\"soil\",\"water\",\"wood\",\"gas\",\"sky\",\"human\",\"life\"])\n",
    "dict6[np.squeeze(np.argwhere(np.isnan(dict6)))]=0\n",
    "dict7=pd.Series(H1).reindex([\"fire\",\"soil\",\"water\",\"wood\",\"gas\",\"sky\",\"human\",\"life\"])\n",
    "dict7[np.squeeze(np.argwhere(np.isnan(dict7)))]=0\n",
    "dict8=pd.Series(L1).reindex([\"fire\",\"soil\",\"water\",\"wood\",\"gas\",\"sky\",\"human\",\"life\"])\n",
    "dict8[np.squeeze(np.argwhere(np.isnan(dict8)))]=0\n",
    "plt.figure(figsize=(24,10))\n",
    "plt.subplot(241)\n",
    "plt.bar(x,dict1,color=\"red\")\n",
    "plt.title(\"fire regonition\")\n",
    "for i,j in zip(x, dict1):\n",
    "        plt.text(i, j, str(int(j)), ha='center', va='bottom', fontsize=10.5)\n",
    "#print(dict1)\n",
    "plt.subplot(242)\n",
    "plt.bar(x,dict2,color=\"yellow\")\n",
    "plt.title(\"soil regonition\")\n",
    "for i,j in zip(x, dict2):\n",
    "        plt.text(i, j, str(int(j)), ha='center', va='bottom', fontsize=10.5)\n",
    "#print(dict2)\n",
    "plt.subplot(243)\n",
    "plt.bar(x,dict3,color=\"brown\")\n",
    "plt.title(\"wood regonition\")\n",
    "for i,j in zip(x, dict3):\n",
    "        plt.text(i, j, str(int(j)), ha='center', va='bottom', fontsize=10.5)\n",
    "#print(dict1)\n",
    "plt.subplot(244)\n",
    "plt.bar(x,dict4,color=\"blue\")\n",
    "plt.title(\"water regonition\")\n",
    "for i,j in zip(x, dict4):\n",
    "        plt.text(i, j, str(int(j)), ha='center', va='bottom', fontsize=10.5)\n",
    "#print(dict1)\n",
    "plt.subplot(245)\n",
    "plt.bar(x,dict5,color=\"green\")\n",
    "plt.title(\"gas regonition\")\n",
    "for i,j in zip(x, dict5):\n",
    "        plt.text(i, j, str(int(j)), ha='center', va='bottom', fontsize=10.5)\n",
    "#print(dict1)\n",
    "plt.subplot(246)\n",
    "plt.bar(x,dict6,color=\"orange\")\n",
    "plt.title(\"sky regonition\")\n",
    "for i,j in zip(x, dict6):\n",
    "        plt.text(i, j, str(int(j)), ha='center', va='bottom', fontsize=10.5)\n",
    "#print(dict1)\n",
    "plt.subplot(247)\n",
    "plt.bar(x,dict7,color=\"black\")\n",
    "plt.title(\"human regonition\")\n",
    "for i,j in zip(x, dict7):\n",
    "        plt.text(i, j, str(int(j)), ha='center', va='bottom', fontsize=10.5)\n",
    "#print(dict1)\n",
    "plt.subplot(248)\n",
    "plt.bar(x,dict8,color=\"purple\")\n",
    "plt.title(\"life regonition\")\n",
    "for i,j in zip(x, dict8):\n",
    "        plt.text(i, j, str(int(j)), ha='center', va='bottom', fontsize=10.5)\n",
    "#print(dict1)\n",
    "#list1=dict1.values.tolist()\n",
    "plt.savefig(\"regonition.png\")\n",
    "plt.show()"
   ]
  }
 ],
 "metadata": {
  "kernelspec": {
   "display_name": "Python 3",
   "language": "python",
   "name": "python3"
  },
  "language_info": {
   "codemirror_mode": {
    "name": "ipython",
    "version": 3
   },
   "file_extension": ".py",
   "mimetype": "text/x-python",
   "name": "python",
   "nbconvert_exporter": "python",
   "pygments_lexer": "ipython3",
   "version": "3.7.7"
  },
  "toc": {
   "base_numbering": 1,
   "nav_menu": {},
   "number_sections": false,
   "sideBar": false,
   "skip_h1_title": false,
   "title_cell": "Table of Contents",
   "title_sidebar": "Contents",
   "toc_cell": false,
   "toc_position": {},
   "toc_section_display": false,
   "toc_window_display": false
  }
 },
 "nbformat": 4,
 "nbformat_minor": 2
}
